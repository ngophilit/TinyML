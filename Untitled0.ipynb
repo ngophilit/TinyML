{
  "nbformat": 4,
  "nbformat_minor": 0,
  "metadata": {
    "colab": {
      "provenance": []
    },
    "kernelspec": {
      "name": "python3",
      "display_name": "Python 3"
    },
    "language_info": {
      "name": "python"
    }
  },
  "cells": [
    {
      "cell_type": "markdown",
      "source": [
        "[![Open in Colab](https://colab.research.google.com/assets/colab-badge.svg)](https://colab.research.google.com/github/tensorflow/tensorflow/blob/master/tensorflow/lite/micro/examples/hello_world/create_sine_model.ipynb)"
      ],
      "metadata": {
        "id": "JHhOrLuMjnCh"
      }
    },
    {
      "cell_type": "code",
      "source": [],
      "metadata": {
        "id": "EvYr4ISDj1uD"
      },
      "execution_count": null,
      "outputs": []
    }
  ]
}
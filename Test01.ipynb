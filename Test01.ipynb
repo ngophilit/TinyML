{
  "nbformat": 4,
  "nbformat_minor": 0,
  "metadata": {
    "colab": {
      "provenance": [],
      "collapsed_sections": []
    },
    "kernelspec": {
      "name": "python3",
      "display_name": "Python 3"
    },
    "language_info": {
      "name": "python"
    }
  },
  "cells": [
    {
      "cell_type": "markdown",
      "source": [
        "[![Open in Colab](https://colab.research.google.com/assets/colab-badge.svg)](https://colab.research.google.com/github/ngophilit/TinyML/blob/main/Test01.ipynb)"
      ],
      "metadata": {
        "id": "JHhOrLuMjnCh"
      }
    },
    {
      "cell_type": "code",
      "source": [],
      "metadata": {
        "id": "EvYr4ISDj1uD"
      },
      "execution_count": null,
      "outputs": []
    }
  ]
}
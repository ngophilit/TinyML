{
  "nbformat": 4,
  "nbformat_minor": 0,
  "metadata": {
    "colab": {
      "provenance": [],
      "collapsed_sections": []
    },
    "kernelspec": {
      "name": "python3",
      "display_name": "Python 3"
    },
    "language_info": {
      "name": "python"
    }
  },
  "cells": [
    {
      "cell_type": "markdown",
      "source": [
        "[![Open in Colab](https://colab.research.google.com/assets/colab-badge.svg)](https://colab.research.google.com/https:/github.com/ngophilit/TinyML/blob/main/Untitled0.ipynb)"
      ],
      "metadata": {
        "id": "JHhOrLuMjnCh"
      }
    },
    {
      "cell_type": "code",
      "source": [],
      "metadata": {
        "id": "EvYr4ISDj1uD"
      },
      "execution_count": null,
      "outputs": []
    }
  ]
}